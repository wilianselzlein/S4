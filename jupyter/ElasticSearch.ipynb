{
 "cells": [
  {
   "cell_type": "markdown",
   "metadata": {},
   "source": [
    "https://elasticsearch-py.readthedocs.io/en/master/\n",
    "\n",
    "https://sarahleejane.github.io/learning/python/2015/10/14/creating-an-elastic-search-index-with-python.html"
   ]
  },
  {
   "cell_type": "code",
   "execution_count": 1,
   "metadata": {},
   "outputs": [],
   "source": [
    "from datetime import datetime\n",
    "from elasticsearch import Elasticsearch"
   ]
  },
  {
   "cell_type": "code",
   "execution_count": 50,
   "metadata": {},
   "outputs": [],
   "source": [
    "es = Elasticsearch(['http://localhost:9200'])"
   ]
  },
  {
   "cell_type": "code",
   "execution_count": 51,
   "metadata": {},
   "outputs": [],
   "source": [
    "doc = {\n",
    "    'atendimento': '314846',\n",
    "    'item': '1',\n",
    "    'original': 'Prezados, Informamos que a Base de dados SPJSP apresenta transação aberta com tempo superior a 5 minutos. ',\n",
    "    'texto': 'base_dados spjsp apresenta transacao aberta tempo_superior_num minutos',\n",
    "    'data': '2019-07-12',\n",
    "    #'timestamp': datetime.now(),\n",
    "}"
   ]
  },
  {
   "cell_type": "code",
   "execution_count": 52,
   "metadata": {},
   "outputs": [
    {
     "name": "stdout",
     "output_type": "stream",
     "text": [
      "updated\n"
     ]
    }
   ],
   "source": [
    "res = es.index(index=\"s4\", id='314846/1', body=doc) #doc_type='text',\n",
    "print(res['result'])"
   ]
  },
  {
   "cell_type": "code",
   "execution_count": 53,
   "metadata": {},
   "outputs": [
    {
     "name": "stdout",
     "output_type": "stream",
     "text": [
      "{'atendimento': '314846', 'item': '1', 'original': 'Prezados, Informamos que a Base de dados SPJSP apresenta transação aberta com tempo superior a 5 minutos. ', 'texto': 'base_dados spjsp apresenta transacao aberta tempo_superior_num minutos', 'data': '2019-07-12'}\n"
     ]
    }
   ],
   "source": [
    "res = es.get(index=\"s4\", id='314846/1') #, doc_type='text'\n",
    "print(res['_source'])"
   ]
  },
  {
   "cell_type": "code",
   "execution_count": 49,
   "metadata": {},
   "outputs": [
    {
     "data": {
      "text/plain": [
       "{'_shards': {'total': 2, 'successful': 1, 'failed': 0}}"
      ]
     },
     "execution_count": 49,
     "metadata": {},
     "output_type": "execute_result"
    }
   ],
   "source": [
    "es.indices.refresh(index=\"s4\")"
   ]
  },
  {
   "cell_type": "code",
   "execution_count": 14,
   "metadata": {},
   "outputs": [
    {
     "name": "stdout",
     "output_type": "stream",
     "text": [
      "Got 1 Hits:\n",
      "2019-07-25T14:14:06.055334 2019-07-12 314846/1: base_dados spjsp apresenta transacao aberta tempo_superior_num minutos\n"
     ]
    }
   ],
   "source": [
    "res = es.search(index=\"s4\", body={\"query\": {\"match_all\": {}}})\n",
    "\n",
    "print(\"Got %d Hits:\" % res['hits']['total']['value'])\n",
    "\n",
    "for hit in res['hits']['hits']:\n",
    "    print(\"%(timestamp)s %(data)s %(atendimento)s/%(item)s: %(texto)s\" % hit[\"_source\"])"
   ]
  },
  {
   "cell_type": "code",
   "execution_count": 33,
   "metadata": {},
   "outputs": [],
   "source": [
    "doc2 = {\n",
    "    'atendimento': '284398',\n",
    "    'item': '2',\n",
    "    'original': 'Prezados Senhores, Informamos que a Base de dados SPJSP apresenta Transação aberta com tempo superior a 15 minutos.',\n",
    "    'texto': 'base_dados spjsp informamos base dados apresenta transacao aberta tempo_superior_num minutos',\n",
    "    'data': '2019-07-12',\n",
    "    'timestamp': '2019-07-12' #datetime.now(),\n",
    "}"
   ]
  },
  {
   "cell_type": "code",
   "execution_count": 34,
   "metadata": {},
   "outputs": [],
   "source": [
    "res = es.index(index=\"s4\", id='284398/2', body=doc2)"
   ]
  },
  {
   "cell_type": "code",
   "execution_count": 32,
   "metadata": {},
   "outputs": [
    {
     "name": "stdout",
     "output_type": "stream",
     "text": [
      "{'atendimento': '284398', 'item': '1', 'original': 'Prezados Senhores, Informamos que a Base de dados SPJSP apresenta Transação aberta com tempo superior a 15 minutos.', 'texto': 'base_dados spjsp informamos base dados apresenta transacao aberta tempo_superior_num minutos', 'data': '2019-07-12', 'timestamp': '2019-07-25T15:22:26.608541'}\n"
     ]
    }
   ],
   "source": [
    "res = es.get(index=\"s4\", id='284398/1') #, doc_type='text'\n",
    "print(res['_source'])"
   ]
  },
  {
   "cell_type": "code",
   "execution_count": 35,
   "metadata": {},
   "outputs": [
    {
     "name": "stdout",
     "output_type": "stream",
     "text": [
      "{'atendimento': '284398', 'item': '2', 'original': 'Prezados Senhores, Informamos que a Base de dados SPJSP apresenta Transação aberta com tempo superior a 15 minutos.', 'texto': 'base_dados spjsp informamos base dados apresenta transacao aberta tempo_superior_num minutos', 'data': '2019-07-12', 'timestamp': '2019-07-12'}\n"
     ]
    }
   ],
   "source": [
    "res = es.get(index=\"s4\", id='284398/2') #, doc_type='text'\n",
    "print(res['_source'])"
   ]
  },
  {
   "cell_type": "code",
   "execution_count": 36,
   "metadata": {},
   "outputs": [
    {
     "data": {
      "text/plain": [
       "{'_shards': {'total': 2, 'successful': 1, 'failed': 0}}"
      ]
     },
     "execution_count": 36,
     "metadata": {},
     "output_type": "execute_result"
    }
   ],
   "source": [
    "es.indices.refresh(index=\"s4\")"
   ]
  },
  {
   "cell_type": "code",
   "execution_count": 27,
   "metadata": {},
   "outputs": [
    {
     "data": {
      "text/plain": [
       "{'took': 0,\n",
       " 'timed_out': False,\n",
       " '_shards': {'total': 1, 'successful': 1, 'skipped': 0, 'failed': 0},\n",
       " 'hits': {'total': {'value': 2, 'relation': 'eq'},\n",
       "  'max_score': 1.0,\n",
       "  'hits': [{'_index': 's4',\n",
       "    '_type': '_doc',\n",
       "    '_id': '1',\n",
       "    '_score': 1.0,\n",
       "    '_source': {'atendimento': '314846',\n",
       "     'item': '1',\n",
       "     'original': 'Prezados, Informamos que a Base de dados SPJSP apresenta transação aberta com tempo superior a 5 minutos. ',\n",
       "     'texto': 'base_dados spjsp apresenta transacao aberta tempo_superior_num minutos',\n",
       "     'data': '2019-07-12',\n",
       "     'timestamp': '2019-07-25T14:14:06.055334'}},\n",
       "   {'_index': 's4',\n",
       "    '_type': '_doc',\n",
       "    '_id': '284398/1',\n",
       "    '_score': 1.0,\n",
       "    '_source': {'atendimento': '284398',\n",
       "     'item': '1',\n",
       "     'original': 'Prezados Senhores, Informamos que a Base de dados SPJSP apresenta Transação aberta com tempo superior a 15 minutos.',\n",
       "     'texto': 'base_dados spjsp informamos base dados apresenta transacao aberta tempo_superior_num minutos',\n",
       "     'data': '2019-07-12',\n",
       "     'timestamp': '2019-07-25T15:22:26.608541'}}]}}"
      ]
     },
     "execution_count": 27,
     "metadata": {},
     "output_type": "execute_result"
    }
   ],
   "source": [
    "es.search(body={\"query\": {\"match_all\": {}}}, index = 's4')"
   ]
  },
  {
   "cell_type": "code",
   "execution_count": 28,
   "metadata": {},
   "outputs": [
    {
     "data": {
      "text/plain": [
       "{'s4': {'mappings': {'properties': {'atendimento': {'type': 'text',\n",
       "     'fields': {'keyword': {'type': 'keyword', 'ignore_above': 256}}},\n",
       "    'data': {'type': 'date'},\n",
       "    'item': {'type': 'text',\n",
       "     'fields': {'keyword': {'type': 'keyword', 'ignore_above': 256}}},\n",
       "    'original': {'type': 'text',\n",
       "     'fields': {'keyword': {'type': 'keyword', 'ignore_above': 256}}},\n",
       "    'texto': {'type': 'text',\n",
       "     'fields': {'keyword': {'type': 'keyword', 'ignore_above': 256}}},\n",
       "    'timestamp': {'type': 'date'}}}}}"
      ]
     },
     "execution_count": 28,
     "metadata": {},
     "output_type": "execute_result"
    }
   ],
   "source": [
    "es.indices.get_mapping(index = 's4')"
   ]
  }
 ],
 "metadata": {
  "kernelspec": {
   "display_name": "Python 3",
   "language": "python",
   "name": "python3"
  },
  "language_info": {
   "codemirror_mode": {
    "name": "ipython",
    "version": 3
   },
   "file_extension": ".py",
   "mimetype": "text/x-python",
   "name": "python",
   "nbconvert_exporter": "python",
   "pygments_lexer": "ipython3",
   "version": "3.6.8"
  }
 },
 "nbformat": 4,
 "nbformat_minor": 2
}
