{
 "cells": [
  {
   "cell_type": "code",
   "execution_count": 1,
   "metadata": {},
   "outputs": [],
   "source": [
    "import sys\n",
    "import ibm_db\n",
    "import ibm_db_dbi"
   ]
  },
  {
   "cell_type": "code",
   "execution_count": 2,
   "metadata": {},
   "outputs": [],
   "source": [
    "from pymongo import MongoClient\n",
    "import datetime\n",
    "#conecta banco\n",
    "client = MongoClient('localhost', 27017)\n",
    "#seleciona base\n",
    "db = client.S4\n",
    "\n",
    "#seleciona collatction\n",
    "collection = db.SAC"
   ]
  },
  {
   "cell_type": "code",
   "execution_count": 3,
   "metadata": {},
   "outputs": [],
   "source": [
    "from ipywidgets import FloatProgress\n",
    "from IPython.display import display"
   ]
  },
  {
   "cell_type": "code",
   "execution_count": 4,
   "metadata": {},
   "outputs": [],
   "source": [
    "import json\n",
    "import bson\n",
    "from bson import json_util\n",
    "from bson.codec_options import CodecOptions\n",
    "from bson.raw_bson import RawBSONDocument\n"
   ]
  },
  {
   "cell_type": "code",
   "execution_count": 5,
   "metadata": {},
   "outputs": [],
   "source": [
    "#Enter the values for you database connection\n",
    "dsn_driver = \"IBM DB2 ODBC DRIVER\"\n",
    "dsn_database = \"SAC\"            # e.g. \"BLUDB\"\n",
    "dsn_hostname = \"172.23.2.120\" # e.g.: \"awh-yp-small03.services.dal.bluemix.net\"\n",
    "dsn_port = \"50100\"                # e.g. \"50000\" \n",
    "dsn_protocol = \"TCPIP\"            # i.e. \"TCPIP\"\n",
    "dsn_uid = \"UNJ_BI_PROCURADORIAS\"        # e.g. \"dash104434\"\n",
    "dsn_pwd = \"3z@kthAzb\"       # e.g. \"7dBZ3jWt9xN6$o0JiX!m\""
   ]
  },
  {
   "cell_type": "code",
   "execution_count": 6,
   "metadata": {},
   "outputs": [],
   "source": [
    "dsn = (\n",
    "    \"DRIVER={{IBM DB2 ODBC DRIVER}};\"\n",
    "    \"DATABASE={0};\"\n",
    "    \"HOSTNAME={1};\"\n",
    "    \"PORT={2};\"\n",
    "    \"PROTOCOL=TCPIP;\"\n",
    "    \"UID={3};\"\n",
    "    \"PWD={4};\").format(dsn_database, dsn_hostname, dsn_port, dsn_uid, dsn_pwd)"
   ]
  },
  {
   "cell_type": "code",
   "execution_count": 7,
   "metadata": {},
   "outputs": [
    {
     "name": "stdout",
     "output_type": "stream",
     "text": [
      "Conectou!!!\n"
     ]
    }
   ],
   "source": [
    "conn = ibm_db.connect(dsn_database, dsn_uid, dsn_pwd) \n",
    "print(\"Conectou!!!\")\n",
    "schema = ibm_db.exec_immediate(conn, \"SET SCHEMA SAC\")"
   ]
  },
  {
   "cell_type": "code",
   "execution_count": 8,
   "metadata": {},
   "outputs": [],
   "source": [
    "sql = \"\"\"SELECT DISTINCT \n",
    "       ia.NUATENDIMENTO,\n",
    "       IA.NUITEM,\n",
    "       cast(ia.DEATENDIMENTO as varchar(32522)) AS DESCRICAO ,\n",
    "       ve.NURELEASE,\n",
    "       ia.CDLOCALSISTEMA,\n",
    "       ia.CDMODULOSISTEMA,\n",
    "       CLI.SGCLIENTE AS CLIENTE,\n",
    "       IA.DTREGISTRO AS DATA_CADASTRO,\n",
    "       IA.DTLIMSOLUCAO AS DATA_SLA,\n",
    "       CASE IA.CDPRIORIDADE \n",
    "         WHEN 6 THEN 'ZERO/CRÍTICA'\n",
    "         WHEN 5 THEN 'UM/IMPEDITIVA'\n",
    "         WHEN 1 THEN 'DOIS/ALTA'\n",
    "         WHEN 2 THEN 'TRES/MÉDIA'\n",
    "         WHEN 3 THEN 'QUATRO/BAIXA'\n",
    "         WHEN 4 THEN 'INDEFINIDA'\n",
    "       END SEVERIDADE,\n",
    "       CASE IA.CDPRIORIDADE \n",
    "         WHEN 6 THEN 8\n",
    "         WHEN 5 THEN 5\n",
    "         WHEN 1 THEN 4\n",
    "         WHEN 2 THEN 3\n",
    "         WHEN 3 THEN 2\n",
    "         WHEN 4 THEN 3\n",
    "       END PONTUACAO_SEVERIDADE,\n",
    "       SIT.DESITUACAOATEND AS SITUACAO_SALT,\n",
    "       ( SELECT (NUATENDvinc || '/' || NUITEMvinc)  FROM ESACVINCULAATEND aaa where aaa.NUATENDVINC = ia.NUATENDIMENTO AND aaa.NUITEMVINC = ia.NUITEM  FETCH FIRST 1 ROWS ONLY) AS SaltsVinculadas  \n",
    "  FROM sac.ESACREGISTROATEND ra\n",
    " LEFT JOIN sac.ESACVERSAO ve\n",
    "    ON ra.CDPROJETO = ve.CDPROJETO\n",
    "   AND ra.CDSISTEMA = ve.CDSISTEMA\n",
    "   AND ra.NUSEQVERSAO = ve.NUSEQVERSAO\n",
    "  JOIN sac.ESACITEMATEND ia\n",
    "    ON ia.cdProjeto = ia.CDPROJETO\n",
    "   AND ia.NUATENDIMENTO = ra.NUATENDIMENTO\n",
    "  JOIN SAC.ESACSITUACAOATEND SIT\n",
    "    ON SIT.CDSITUACAOATEND = IA.CDSITUACAOATEND\n",
    "  JOIN SAC.ESACCLIENTE CLI\n",
    "    ON CLI.CDCLIENTE = ra.CDCLIENTE\n",
    " WHERE ra.cdProjeto = 3\n",
    "   AND ra.CDSISTEMA IN (31,93)\n",
    "   AND VARCHAR_FORMAT (ia.DTREGISTRO,'YYYY-MM-DD') >= '2014-01-01';\"\"\""
   ]
  },
  {
   "cell_type": "code",
   "execution_count": 9,
   "metadata": {},
   "outputs": [
    {
     "data": {
      "application/vnd.jupyter.widget-view+json": {
       "model_id": "04d5c978de8c475abc1f36e12d7b04e3",
       "version_major": 2,
       "version_minor": 0
      },
      "text/html": [
       "<p>Failed to display Jupyter Widget of type <code>FloatProgress</code>.</p>\n",
       "<p>\n",
       "  If you're reading this message in the Jupyter Notebook or JupyterLab Notebook, it may mean\n",
       "  that the widgets JavaScript is still loading. If this message persists, it\n",
       "  likely means that the widgets JavaScript library is either not installed or\n",
       "  not enabled. See the <a href=\"https://ipywidgets.readthedocs.io/en/stable/user_install.html\">Jupyter\n",
       "  Widgets Documentation</a> for setup instructions.\n",
       "</p>\n",
       "<p>\n",
       "  If you're reading this message in another frontend (for example, a static\n",
       "  rendering on GitHub or <a href=\"https://nbviewer.jupyter.org/\">NBViewer</a>),\n",
       "  it may mean that your frontend doesn't currently support widgets.\n",
       "</p>\n"
      ],
      "text/plain": [
       "FloatProgress(value=0.0, bar_style='success', description='99999 tasks left ', max=99999.0)"
      ]
     },
     "metadata": {},
     "output_type": "display_data"
    },
    {
     "name": "stderr",
     "output_type": "stream",
     "text": [
      "IOPub message rate exceeded.\n",
      "The notebook server will temporarily stop sending output\n",
      "to the client in order to avoid crashing it.\n",
      "To change this limit, set the config variable\n",
      "`--NotebookApp.iopub_msg_rate_limit`.\n",
      "\n",
      "Current values:\n",
      "NotebookApp.iopub_msg_rate_limit=1000.0 (msgs/sec)\n",
      "NotebookApp.rate_limit_window=3.0 (secs)\n",
      "\n"
     ]
    }
   ],
   "source": [
    "stmt = ibm_db.exec_immediate(conn, sql)\n",
    "result = ibm_db.fetch_assoc(stmt)\n",
    "total = 99999\n",
    "f = FloatProgress(min=0, max=total, description=\"{:1.0f} tasks left \".format(total), bar_style='success')\n",
    "f.value=0\n",
    "display(f)  \n",
    "SALTDB = dict()\n",
    "while(result):\n",
    "    if  (result['DATA_CADASTRO'] is not None):\n",
    "        result['DATA_CADASTRO'] =  result['DATA_CADASTRO'].isoformat()\n",
    "    if  (result['DATA_SLA'] is not None):\n",
    "        result['DATA_SLA'] =  result['DATA_SLA'].isoformat()  \n",
    "    SALTDB = json_util.dumps(result)\n",
    "    SALTDB = bson.BSON.encode(result)\n",
    "    f.value += 1\n",
    "    f.description =  str(f.value)  + '/' + str(total)\n",
    "    db.salts.insert_one(RawBSONDocument(SALTDB))\n",
    "    result = ibm_db.fetch_assoc(stmt)"
   ]
  }
 ],
 "metadata": {
  "kernelspec": {
   "display_name": "Python 3",
   "language": "python",
   "name": "python3"
  },
  "language_info": {
   "codemirror_mode": {
    "name": "ipython",
    "version": 3
   },
   "file_extension": ".py",
   "mimetype": "text/x-python",
   "name": "python",
   "nbconvert_exporter": "python",
   "pygments_lexer": "ipython3",
   "version": "3.6.2"
  }
 },
 "nbformat": 4,
 "nbformat_minor": 2
}
